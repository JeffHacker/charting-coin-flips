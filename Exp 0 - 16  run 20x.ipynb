{
 "cells": [
  {
   "cell_type": "code",
   "execution_count": 3,
   "metadata": {
    "collapsed": true
   },
   "outputs": [],
   "source": [
    "import random\n",
    "import math\n",
    "import statistics\n",
    "import matplotlib.pyplot as plt\n",
    "%matplotlib inline\n",
    "\n"
   ]
  },
  {
   "cell_type": "code",
   "execution_count": 23,
   "metadata": {
    "collapsed": false
   },
   "outputs": [
    {
     "name": "stdout",
     "output_type": "stream",
     "text": [
      "[32888, 32748, 32610, 32733, 32758, 33023, 32451, 32863, 32738, 32905, 32828, 32953, 32964, 32736, 32699, 32946, 32843, 32727, 32820, 32800]\n",
      "[32648, 32788, 32926, 32803, 32778, 32513, 33085, 32673, 32798, 32631, 32708, 32583, 32572, 32800, 32837, 32590, 32693, 32809, 32716, 32736]\n"
     ]
    }
   ],
   "source": [
    "# Coin Flip results for 2**0 thru 2**16\n",
    "\n",
    "def coin_flip(heads_list, tails_list):\n",
    "    for r in range(20):\n",
    "        heads = 0\n",
    "        tails = 0\n",
    "        for i in range(2**16):\n",
    "            if random.random() > .5:\n",
    "                heads += 1\n",
    "            else:\n",
    "                tails +=1\n",
    "        heads_list.append(heads)\n",
    "        tails_list.append(tails)\n",
    "        \n",
    "\n",
    "heads_list = []\n",
    "tails_list = []\n",
    "\n",
    "coin_flip(heads_list, tails_list)\n",
    "\n",
    "print(heads_list)\n",
    "print(tails_list)"
   ]
  },
  {
   "cell_type": "code",
   "execution_count": null,
   "metadata": {
    "collapsed": true
   },
   "outputs": [],
   "source": [
    "# finding mean of heads/tails at each point\n",
    "#def mean(col):\n",
    "#    return sum(col) / len(col)\n",
    " def find_mean\n",
    " \n",
    "    "
   ]
  },
  {
   "cell_type": "code",
   "execution_count": 24,
   "metadata": {
    "collapsed": false
   },
   "outputs": [
    {
     "ename": "SyntaxError",
     "evalue": "invalid syntax (<ipython-input-24-20cecac0e42d>, line 1)",
     "output_type": "error",
     "traceback": [
      "\u001b[0;36m  File \u001b[0;32m\"<ipython-input-24-20cecac0e42d>\"\u001b[0;36m, line \u001b[0;32m1\u001b[0m\n\u001b[0;31m    y1 =\u001b[0m\n\u001b[0m        ^\u001b[0m\n\u001b[0;31mSyntaxError\u001b[0m\u001b[0;31m:\u001b[0m invalid syntax\n"
     ]
    }
   ],
   "source": [
    "# y1 = \n",
    "\n",
    "x1 = range(20)\n",
    "plt.scatter(x1, y1)\n",
    "plt.scatter(x1, y2)\n",
    "#plt.xscale('log')\n",
    "plt.xticks(range(20), x1)\n",
    "plt.ylabel(\"Heads vs. Tails\")\n",
    "plt.xlabel(\"2**x flips\")\n",
    "plt.title(\"Tracking Coin Toss Results\")\n",
    "plt.show()"
   ]
  },
  {
   "cell_type": "code",
   "execution_count": null,
   "metadata": {
    "collapsed": true
   },
   "outputs": [],
   "source": []
  }
 ],
 "metadata": {
  "kernelspec": {
   "display_name": "Python 3",
   "language": "python",
   "name": "python3"
  },
  "language_info": {
   "codemirror_mode": {
    "name": "ipython",
    "version": 3
   },
   "file_extension": ".py",
   "mimetype": "text/x-python",
   "name": "python",
   "nbconvert_exporter": "python",
   "pygments_lexer": "ipython3",
   "version": "3.4.3"
  }
 },
 "nbformat": 4,
 "nbformat_minor": 0
}
